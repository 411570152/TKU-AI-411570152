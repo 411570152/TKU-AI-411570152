{
  "nbformat": 4,
  "nbformat_minor": 0,
  "metadata": {
    "colab": {
      "provenance": [],
      "authorship_tag": "ABX9TyPtePWWjXjAYhB70inJjxxm",
      "include_colab_link": true
    },
    "kernelspec": {
      "name": "python3",
      "display_name": "Python 3"
    },
    "language_info": {
      "name": "python"
    }
  },
  "cells": [
    {
      "cell_type": "markdown",
      "metadata": {
        "id": "view-in-github",
        "colab_type": "text"
      },
      "source": [
        "<a href=\"https://colab.research.google.com/github/411570152/TKU-AI-411570152/blob/main/1129.ipynb\" target=\"_parent\"><img src=\"https://colab.research.google.com/assets/colab-badge.svg\" alt=\"Open In Colab\"/></a>"
      ]
    },
    {
      "cell_type": "code",
      "execution_count": 1,
      "metadata": {
        "colab": {
          "base_uri": "https://localhost:8080/"
        },
        "id": "L5yjyGbuuvFT",
        "outputId": "f95f2a13-de69-4fc2-d391-069e04d59151"
      },
      "outputs": [
        {
          "output_type": "stream",
          "name": "stdout",
          "text": [
            "Hi,1129\n"
          ]
        }
      ],
      "source": [
        "print(\"Hi,1129\")"
      ]
    },
    {
      "cell_type": "code",
      "source": [
        "num1 = 1+1.1"
      ],
      "metadata": {
        "id": "TMWd-TNnu68D"
      },
      "execution_count": 4,
      "outputs": []
    },
    {
      "cell_type": "code",
      "source": [
        "num1"
      ],
      "metadata": {
        "colab": {
          "base_uri": "https://localhost:8080/"
        },
        "id": "u9Klrtc1vZ8G",
        "outputId": "db22fd35-b05a-4d72-d54e-896b70ac7d5a"
      },
      "execution_count": 5,
      "outputs": [
        {
          "output_type": "execute_result",
          "data": {
            "text/plain": [
              "2.1"
            ]
          },
          "metadata": {},
          "execution_count": 5
        }
      ]
    },
    {
      "cell_type": "code",
      "source": [
        "print(type(num1))"
      ],
      "metadata": {
        "colab": {
          "base_uri": "https://localhost:8080/"
        },
        "id": "87rNyukOvg6I",
        "outputId": "a2fb84bf-21c3-487f-9e1e-28db7eda6953"
      },
      "execution_count": 6,
      "outputs": [
        {
          "output_type": "stream",
          "name": "stdout",
          "text": [
            "<class 'float'>\n"
          ]
        }
      ]
    },
    {
      "cell_type": "code",
      "source": [
        "int(num1)"
      ],
      "metadata": {
        "colab": {
          "base_uri": "https://localhost:8080/"
        },
        "id": "qpez-QBbv1Y_",
        "outputId": "659a81e4-c04d-4c82-d070-cb25ead57b5d"
      },
      "execution_count": 7,
      "outputs": [
        {
          "output_type": "execute_result",
          "data": {
            "text/plain": [
              "2"
            ]
          },
          "metadata": {},
          "execution_count": 7
        }
      ]
    },
    {
      "cell_type": "code",
      "source": [
        "print(type(num1))"
      ],
      "metadata": {
        "colab": {
          "base_uri": "https://localhost:8080/"
        },
        "id": "5wSQp1YWv4ar",
        "outputId": "2f6bb748-b9ca-42a4-b638-b5685bef2f40"
      },
      "execution_count": 8,
      "outputs": [
        {
          "output_type": "stream",
          "name": "stdout",
          "text": [
            "<class 'float'>\n"
          ]
        }
      ]
    },
    {
      "cell_type": "code",
      "source": [
        "str(num1)"
      ],
      "metadata": {
        "colab": {
          "base_uri": "https://localhost:8080/",
          "height": 35
        },
        "id": "Vc1uTsaxv9U1",
        "outputId": "3dd03f90-71f2-4482-880b-c8e7bc02dc37"
      },
      "execution_count": 9,
      "outputs": [
        {
          "output_type": "execute_result",
          "data": {
            "text/plain": [
              "'2.1'"
            ],
            "application/vnd.google.colaboratory.intrinsic+json": {
              "type": "string"
            }
          },
          "metadata": {},
          "execution_count": 9
        }
      ]
    },
    {
      "cell_type": "code",
      "source": [
        "num2 = 2"
      ],
      "metadata": {
        "id": "Y6uiHUo5wByx"
      },
      "execution_count": 18,
      "outputs": []
    },
    {
      "cell_type": "code",
      "source": [
        "num3 = 3"
      ],
      "metadata": {
        "id": "TcGnAa9CwKHY"
      },
      "execution_count": 19,
      "outputs": []
    },
    {
      "cell_type": "code",
      "source": [
        "num4 = num2 + num3"
      ],
      "metadata": {
        "id": "6X1Rdxa1wNQf"
      },
      "execution_count": 20,
      "outputs": []
    },
    {
      "cell_type": "code",
      "source": [
        "print(type(num4))"
      ],
      "metadata": {
        "colab": {
          "base_uri": "https://localhost:8080/"
        },
        "id": "ypIB320wwUNr",
        "outputId": "e58a1e5a-a0bb-4c81-95a6-311a90f2d3e4"
      },
      "execution_count": 25,
      "outputs": [
        {
          "output_type": "stream",
          "name": "stdout",
          "text": [
            "<class 'int'>\n"
          ]
        }
      ]
    },
    {
      "cell_type": "code",
      "source": [
        "float(num2)"
      ],
      "metadata": {
        "colab": {
          "base_uri": "https://localhost:8080/"
        },
        "id": "TvbhWzdTxr6G",
        "outputId": "875f1bff-5e31-4a4d-b768-261af0518faf"
      },
      "execution_count": 26,
      "outputs": [
        {
          "output_type": "execute_result",
          "data": {
            "text/plain": [
              "2.0"
            ]
          },
          "metadata": {},
          "execution_count": 26
        }
      ]
    },
    {
      "cell_type": "code",
      "source": [
        "float(num3)"
      ],
      "metadata": {
        "colab": {
          "base_uri": "https://localhost:8080/"
        },
        "id": "LTiglYFGx21p",
        "outputId": "9f886ba2-da33-4b58-e156-8b01199fc1d4"
      },
      "execution_count": 27,
      "outputs": [
        {
          "output_type": "execute_result",
          "data": {
            "text/plain": [
              "3.0"
            ]
          },
          "metadata": {},
          "execution_count": 27
        }
      ]
    },
    {
      "cell_type": "code",
      "source": [
        "print(float(num2)+float(num3))"
      ],
      "metadata": {
        "colab": {
          "base_uri": "https://localhost:8080/"
        },
        "id": "NrzUt5fQyCxC",
        "outputId": "f80c5a16-4ca6-4144-f284-cb4f37573f2f"
      },
      "execution_count": 28,
      "outputs": [
        {
          "output_type": "stream",
          "name": "stdout",
          "text": [
            "5.0\n"
          ]
        }
      ]
    },
    {
      "cell_type": "code",
      "source": [
        "a = 1"
      ],
      "metadata": {
        "id": "__88oMzcyXO6"
      },
      "execution_count": 30,
      "outputs": []
    },
    {
      "cell_type": "code",
      "source": [
        "b = 2"
      ],
      "metadata": {
        "id": "nFwOQgw3yw0V"
      },
      "execution_count": 31,
      "outputs": []
    },
    {
      "cell_type": "code",
      "source": [
        "c = 3"
      ],
      "metadata": {
        "id": "CG3WUMflyyxG"
      },
      "execution_count": 32,
      "outputs": []
    },
    {
      "cell_type": "code",
      "source": [
        "print(a,b,c)"
      ],
      "metadata": {
        "colab": {
          "base_uri": "https://localhost:8080/"
        },
        "id": "rhceY0Yiy1Rk",
        "outputId": "42c2e710-f4b4-4125-a4ac-ee5829210cae"
      },
      "execution_count": 33,
      "outputs": [
        {
          "output_type": "stream",
          "name": "stdout",
          "text": [
            "1 2 3\n"
          ]
        }
      ]
    },
    {
      "cell_type": "code",
      "source": [
        "print([a,b,c])"
      ],
      "metadata": {
        "colab": {
          "base_uri": "https://localhost:8080/"
        },
        "id": "Cb4D1D1hy6Md",
        "outputId": "ababd6b9-c263-4ba5-d89f-299e5de42971"
      },
      "execution_count": 34,
      "outputs": [
        {
          "output_type": "stream",
          "name": "stdout",
          "text": [
            "[1, 2, 3]\n"
          ]
        }
      ]
    },
    {
      "cell_type": "code",
      "source": [
        "print(a,[b,c])"
      ],
      "metadata": {
        "colab": {
          "base_uri": "https://localhost:8080/"
        },
        "id": "ILztgDRZy_Te",
        "outputId": "5d1dd67d-5712-4646-da91-4b089ac30e79"
      },
      "execution_count": 35,
      "outputs": [
        {
          "output_type": "stream",
          "name": "stdout",
          "text": [
            "1 [2, 3]\n"
          ]
        }
      ]
    },
    {
      "cell_type": "code",
      "source": [
        "print('hey','hi','hello')"
      ],
      "metadata": {
        "colab": {
          "base_uri": "https://localhost:8080/"
        },
        "id": "7GbuP3DpzErx",
        "outputId": "b34bbcff-b561-4581-a706-c4ec080a096d"
      },
      "execution_count": 36,
      "outputs": [
        {
          "output_type": "stream",
          "name": "stdout",
          "text": [
            "hey hi hello\n"
          ]
        }
      ]
    },
    {
      "cell_type": "code",
      "source": [
        "print('hey','hi','hello', sep='_')"
      ],
      "metadata": {
        "colab": {
          "base_uri": "https://localhost:8080/"
        },
        "id": "5v0p-u7vzQT3",
        "outputId": "4e61c65c-af72-4cb6-82b8-a9d34d14f47f"
      },
      "execution_count": 37,
      "outputs": [
        {
          "output_type": "stream",
          "name": "stdout",
          "text": [
            "hey_hi_hello\n"
          ]
        }
      ]
    },
    {
      "cell_type": "code",
      "source": [
        "print('hey','hi','hello', sep='\\t')"
      ],
      "metadata": {
        "colab": {
          "base_uri": "https://localhost:8080/"
        },
        "id": "CZlzbC7Izi6o",
        "outputId": "52719bf9-746e-4879-a91f-e8e9b37cbd95"
      },
      "execution_count": 38,
      "outputs": [
        {
          "output_type": "stream",
          "name": "stdout",
          "text": [
            "hey\thi\thello\n"
          ]
        }
      ]
    },
    {
      "cell_type": "code",
      "source": [
        "print('hey','hi','hello', sep='\\n')"
      ],
      "metadata": {
        "colab": {
          "base_uri": "https://localhost:8080/"
        },
        "id": "lk0_1CwrzwUJ",
        "outputId": "21f949f5-bcdc-4112-8dbf-36734a617899"
      },
      "execution_count": 39,
      "outputs": [
        {
          "output_type": "stream",
          "name": "stdout",
          "text": [
            "hey\n",
            "hi\n",
            "hello\n"
          ]
        }
      ]
    },
    {
      "cell_type": "code",
      "source": [
        "print('早安,')"
      ],
      "metadata": {
        "colab": {
          "base_uri": "https://localhost:8080/"
        },
        "id": "9t66pI050mmp",
        "outputId": "6931d46c-5aeb-4f88-fb15-a840baca9716"
      },
      "execution_count": 40,
      "outputs": [
        {
          "output_type": "stream",
          "name": "stdout",
          "text": [
            "早安,\n"
          ]
        }
      ]
    },
    {
      "cell_type": "code",
      "source": [
        "print('同學好！')"
      ],
      "metadata": {
        "colab": {
          "base_uri": "https://localhost:8080/"
        },
        "id": "SBYm3w7x1BHf",
        "outputId": "4788b1d1-65c9-4c48-cceb-5dd98fac8cd8"
      },
      "execution_count": 41,
      "outputs": [
        {
          "output_type": "stream",
          "name": "stdout",
          "text": [
            "同學好！\n"
          ]
        }
      ]
    },
    {
      "cell_type": "code",
      "source": [
        "print('打起精神來！！')"
      ],
      "metadata": {
        "colab": {
          "base_uri": "https://localhost:8080/"
        },
        "id": "XlkQ9zUR1Lgc",
        "outputId": "a15a4201-8fd3-4b73-c027-afe768a416b9"
      },
      "execution_count": 42,
      "outputs": [
        {
          "output_type": "stream",
          "name": "stdout",
          "text": [
            "打起精神來！！\n"
          ]
        }
      ]
    },
    {
      "cell_type": "code",
      "source": [
        "print('早安,','同學好！','打氣精神來！！',sep='\\n')"
      ],
      "metadata": {
        "colab": {
          "base_uri": "https://localhost:8080/"
        },
        "id": "kaHNJUSf1RY_",
        "outputId": "142ab2ed-090e-452c-9d2e-fe3236175726"
      },
      "execution_count": 43,
      "outputs": [
        {
          "output_type": "stream",
          "name": "stdout",
          "text": [
            "早安,\n",
            "同學好！\n",
            "打氣精神來！！\n"
          ]
        }
      ]
    },
    {
      "cell_type": "code",
      "source": [
        "print(123)"
      ],
      "metadata": {
        "colab": {
          "base_uri": "https://localhost:8080/"
        },
        "id": "trYuhor61nn4",
        "outputId": "16072778-fd99-44af-f651-3c2a40101eea"
      },
      "execution_count": 44,
      "outputs": [
        {
          "output_type": "stream",
          "name": "stdout",
          "text": [
            "123\n"
          ]
        }
      ]
    },
    {
      "cell_type": "code",
      "source": [
        "print(456)"
      ],
      "metadata": {
        "colab": {
          "base_uri": "https://localhost:8080/"
        },
        "id": "aGKo8YlG1roA",
        "outputId": "063afcb4-df40-406f-887c-17dd50bde402"
      },
      "execution_count": 45,
      "outputs": [
        {
          "output_type": "stream",
          "name": "stdout",
          "text": [
            "456\n"
          ]
        }
      ]
    },
    {
      "cell_type": "code",
      "source": [
        "print(123,end=',')"
      ],
      "metadata": {
        "colab": {
          "base_uri": "https://localhost:8080/"
        },
        "id": "PqV0DMZe1uLe",
        "outputId": "821d3671-4429-490f-b1f7-8d553c8aa212"
      },
      "execution_count": 46,
      "outputs": [
        {
          "output_type": "stream",
          "name": "stdout",
          "text": [
            "123,"
          ]
        }
      ]
    },
    {
      "cell_type": "code",
      "source": [
        "print(456)"
      ],
      "metadata": {
        "colab": {
          "base_uri": "https://localhost:8080/"
        },
        "id": "WCa2w2rM10DI",
        "outputId": "2e09a887-2e25-4b0d-8784-577cf4b1904d"
      },
      "execution_count": 47,
      "outputs": [
        {
          "output_type": "stream",
          "name": "stdout",
          "text": [
            "456\n"
          ]
        }
      ]
    },
    {
      "cell_type": "code",
      "source": [
        "print(123,end='')"
      ],
      "metadata": {
        "colab": {
          "base_uri": "https://localhost:8080/"
        },
        "id": "1z-vOfbK14QF",
        "outputId": "7c1fa539-903a-4952-e525-0782eb8be2e7"
      },
      "execution_count": 48,
      "outputs": [
        {
          "output_type": "stream",
          "name": "stdout",
          "text": [
            "123"
          ]
        }
      ]
    },
    {
      "cell_type": "code",
      "source": [
        "print(456)"
      ],
      "metadata": {
        "colab": {
          "base_uri": "https://localhost:8080/"
        },
        "id": "ARriEw5b1_Zv",
        "outputId": "48c4475c-d867-477f-cf43-0ee1f305a81f"
      },
      "execution_count": 49,
      "outputs": [
        {
          "output_type": "stream",
          "name": "stdout",
          "text": [
            "456\n"
          ]
        }
      ]
    },
    {
      "cell_type": "code",
      "source": [
        "print('早安','同學好','打氣精神來！！！', sep='_')"
      ],
      "metadata": {
        "colab": {
          "base_uri": "https://localhost:8080/"
        },
        "id": "Xo7WlzeD2IeJ",
        "outputId": "44282a05-c2bb-4071-a9cc-d77c6f3d20c5"
      },
      "execution_count": 50,
      "outputs": [
        {
          "output_type": "stream",
          "name": "stdout",
          "text": [
            "早安_同學好_打氣精神來！！！\n"
          ]
        }
      ]
    },
    {
      "cell_type": "code",
      "source": [
        "print('早上好','平安順心','健康如意^^', sep=',')"
      ],
      "metadata": {
        "colab": {
          "base_uri": "https://localhost:8080/"
        },
        "id": "n3-28z1-2iVn",
        "outputId": "a69f9c95-30e6-4cbe-ff82-8397b17dcb1b"
      },
      "execution_count": 51,
      "outputs": [
        {
          "output_type": "stream",
          "name": "stdout",
          "text": [
            "早上好,平安順心,健康如意^^\n"
          ]
        }
      ]
    }
  ]
}